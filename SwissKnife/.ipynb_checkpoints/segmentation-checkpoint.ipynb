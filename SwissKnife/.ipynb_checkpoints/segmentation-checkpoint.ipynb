{
 "cells": [
  {
   "cell_type": "code",
   "execution_count": 1,
   "metadata": {},
   "outputs": [
    {
     "name": "stderr",
     "output_type": "stream",
     "text": [
      "Using TensorFlow backend.\n",
      "/home/nexus/.conda/envs/swissknife/lib/python3.7/site-packages/tensorflow/python/framework/dtypes.py:516: FutureWarning: Passing (type, 1) or '1type' as a synonym of type is deprecated; in a future version of numpy, it will be understood as (type, (1,)) / '(1,)type'.\n",
      "  _np_qint8 = np.dtype([(\"qint8\", np.int8, 1)])\n",
      "/home/nexus/.conda/envs/swissknife/lib/python3.7/site-packages/tensorflow/python/framework/dtypes.py:517: FutureWarning: Passing (type, 1) or '1type' as a synonym of type is deprecated; in a future version of numpy, it will be understood as (type, (1,)) / '(1,)type'.\n",
      "  _np_quint8 = np.dtype([(\"quint8\", np.uint8, 1)])\n",
      "/home/nexus/.conda/envs/swissknife/lib/python3.7/site-packages/tensorflow/python/framework/dtypes.py:518: FutureWarning: Passing (type, 1) or '1type' as a synonym of type is deprecated; in a future version of numpy, it will be understood as (type, (1,)) / '(1,)type'.\n",
      "  _np_qint16 = np.dtype([(\"qint16\", np.int16, 1)])\n",
      "/home/nexus/.conda/envs/swissknife/lib/python3.7/site-packages/tensorflow/python/framework/dtypes.py:519: FutureWarning: Passing (type, 1) or '1type' as a synonym of type is deprecated; in a future version of numpy, it will be understood as (type, (1,)) / '(1,)type'.\n",
      "  _np_quint16 = np.dtype([(\"quint16\", np.uint16, 1)])\n",
      "/home/nexus/.conda/envs/swissknife/lib/python3.7/site-packages/tensorflow/python/framework/dtypes.py:520: FutureWarning: Passing (type, 1) or '1type' as a synonym of type is deprecated; in a future version of numpy, it will be understood as (type, (1,)) / '(1,)type'.\n",
      "  _np_qint32 = np.dtype([(\"qint32\", np.int32, 1)])\n",
      "/home/nexus/.conda/envs/swissknife/lib/python3.7/site-packages/tensorflow/python/framework/dtypes.py:525: FutureWarning: Passing (type, 1) or '1type' as a synonym of type is deprecated; in a future version of numpy, it will be understood as (type, (1,)) / '(1,)type'.\n",
      "  np_resource = np.dtype([(\"resource\", np.ubyte, 1)])\n",
      "/home/nexus/.conda/envs/swissknife/lib/python3.7/site-packages/tensorboard/compat/tensorflow_stub/dtypes.py:541: FutureWarning: Passing (type, 1) or '1type' as a synonym of type is deprecated; in a future version of numpy, it will be understood as (type, (1,)) / '(1,)type'.\n",
      "  _np_qint8 = np.dtype([(\"qint8\", np.int8, 1)])\n",
      "/home/nexus/.conda/envs/swissknife/lib/python3.7/site-packages/tensorboard/compat/tensorflow_stub/dtypes.py:542: FutureWarning: Passing (type, 1) or '1type' as a synonym of type is deprecated; in a future version of numpy, it will be understood as (type, (1,)) / '(1,)type'.\n",
      "  _np_quint8 = np.dtype([(\"quint8\", np.uint8, 1)])\n",
      "/home/nexus/.conda/envs/swissknife/lib/python3.7/site-packages/tensorboard/compat/tensorflow_stub/dtypes.py:543: FutureWarning: Passing (type, 1) or '1type' as a synonym of type is deprecated; in a future version of numpy, it will be understood as (type, (1,)) / '(1,)type'.\n",
      "  _np_qint16 = np.dtype([(\"qint16\", np.int16, 1)])\n",
      "/home/nexus/.conda/envs/swissknife/lib/python3.7/site-packages/tensorboard/compat/tensorflow_stub/dtypes.py:544: FutureWarning: Passing (type, 1) or '1type' as a synonym of type is deprecated; in a future version of numpy, it will be understood as (type, (1,)) / '(1,)type'.\n",
      "  _np_quint16 = np.dtype([(\"quint16\", np.uint16, 1)])\n",
      "/home/nexus/.conda/envs/swissknife/lib/python3.7/site-packages/tensorboard/compat/tensorflow_stub/dtypes.py:545: FutureWarning: Passing (type, 1) or '1type' as a synonym of type is deprecated; in a future version of numpy, it will be understood as (type, (1,)) / '(1,)type'.\n",
      "  _np_qint32 = np.dtype([(\"qint32\", np.int32, 1)])\n",
      "/home/nexus/.conda/envs/swissknife/lib/python3.7/site-packages/tensorboard/compat/tensorflow_stub/dtypes.py:550: FutureWarning: Passing (type, 1) or '1type' as a synonym of type is deprecated; in a future version of numpy, it will be understood as (type, (1,)) / '(1,)type'.\n",
      "  np_resource = np.dtype([(\"resource\", np.ubyte, 1)])\n"
     ]
    },
    {
     "ename": "ModuleNotFoundError",
     "evalue": "No module named 'SwissKnife.preprocessing'",
     "output_type": "error",
     "traceback": [
      "\u001b[0;31m---------------------------------------------------------------------------\u001b[0m",
      "\u001b[0;31mModuleNotFoundError\u001b[0m                       Traceback (most recent call last)",
      "\u001b[0;32m<ipython-input-1-388fe1fec50a>\u001b[0m in \u001b[0;36m<module>\u001b[0;34m\u001b[0m\n\u001b[1;32m     31\u001b[0m \u001b[0;34m\u001b[0m\u001b[0m\n\u001b[1;32m     32\u001b[0m \u001b[0;32mfrom\u001b[0m \u001b[0mSwissKnife\u001b[0m\u001b[0;34m.\u001b[0m\u001b[0mmodels\u001b[0m \u001b[0;32mimport\u001b[0m \u001b[0mclassification_scratch\u001b[0m \u001b[0;32mas\u001b[0m \u001b[0mclassification\u001b[0m\u001b[0;34m\u001b[0m\u001b[0;34m\u001b[0m\u001b[0m\n\u001b[0;32m---> 33\u001b[0;31m \u001b[0;32mfrom\u001b[0m \u001b[0mSwissKnife\u001b[0m\u001b[0;34m.\u001b[0m\u001b[0mpreprocessing\u001b[0m \u001b[0;32mimport\u001b[0m \u001b[0mextractCOM\u001b[0m\u001b[0;34m,\u001b[0m \u001b[0mmaskedImg\u001b[0m\u001b[0;34m,\u001b[0m \u001b[0mstartend\u001b[0m\u001b[0;34m\u001b[0m\u001b[0;34m\u001b[0m\u001b[0m\n\u001b[0m\u001b[1;32m     34\u001b[0m \u001b[0;34m\u001b[0m\u001b[0m\n\u001b[1;32m     35\u001b[0m \u001b[0;32mimport\u001b[0m \u001b[0mskvideo\u001b[0m\u001b[0;34m\u001b[0m\u001b[0;34m\u001b[0m\u001b[0m\n",
      "\u001b[0;31mModuleNotFoundError\u001b[0m: No module named 'SwissKnife.preprocessing'"
     ]
    }
   ],
   "source": [
    "import os\n",
    "import sys\n",
    "import itertools\n",
    "import math\n",
    "import logging\n",
    "import json\n",
    "import re\n",
    "import random\n",
    "from collections import OrderedDict\n",
    "import numpy as np\n",
    "import matplotlib\n",
    "import matplotlib.pyplot as plt\n",
    "import matplotlib.patches as patches\n",
    "import matplotlib.lines as lines\n",
    "from matplotlib.patches import Polygon\n",
    "\n",
    "# Root directory of the project\n",
    "ROOT_DIR = os.path.abspath(\"../../\")\n",
    "\n",
    "# Import Mask RCNN\n",
    "# sys.path.append(ROOT_DIR)  # To find local version of the library\n",
    "# from mrcnn import utils\n",
    "# from mrcnn import visualize\n",
    "# from mrcnn.visualize import display_images\n",
    "# import mrcnn.model as modellib\n",
    "# from mrcnn.model import log\n",
    "\n",
    "# from samples.balloon import balloon\n",
    "\n",
    "# %matplotlib inline \n",
    "\n",
    "from SwissKnife.models import classification_scratch as classification\n",
    "from SwissKnife.preprocessing import extractCOM, maskedImg, startend\n",
    "\n",
    "import skvideo\n",
    "import skvideo.io\n",
    "\n",
    "\n",
    "from tqdm import tqdm\n",
    "from glob import glob"
   ]
  },
  {
   "cell_type": "markdown",
   "metadata": {},
   "source": [
    "## for now do deprecated segmentation on all videos"
   ]
  },
  {
   "cell_type": "code",
   "execution_count": null,
   "metadata": {},
   "outputs": [],
   "source": [
    "def loadVideo(path):\n",
    "    # load the video\n",
    "    videodata = skvideo.io.vread(path, as_grey=True)\n",
    "    videodata = videodata[:,:,:,0]\n",
    "    \n",
    "    return videodata\n",
    "\n",
    "def preprocVideo(videodata):\n",
    "    \n",
    "    thresholding = 60\n",
    "\n",
    "    # preprocessing\n",
    "    imgs_corr = videodata - np.median(videodata[:1000], axis=0)\n",
    "    imgs_corr[:,:75,-200:] = 0\n",
    "    center_of_mass, weighted_center_of_mass = extractCOM(imgs_corr[1500], thresholding)\n",
    "    \n",
    "    ### mask images\n",
    "\n",
    "    masked_imgs = []\n",
    "\n",
    "    for idx, img in enumerate(imgs_corr):\n",
    "        center_of_mass, weighted_center_of_mass = extractCOM(img, thresholding)\n",
    "        masked_imgs.append(maskedImg(videodata[idx], center_of_mass, mask_size=35))\n",
    "    masked_imgs = np.asarray(masked_imgs)\n",
    "    \n",
    "    return masked_imgs"
   ]
  },
  {
   "cell_type": "code",
   "execution_count": null,
   "metadata": {},
   "outputs": [],
   "source": [
    "videos_path = '/media/nexus/storage3/lukas_data/cross_session_identification/'\n",
    "videos = glob(videos_path + '*.avi')\n",
    "sink  = '/media/nexus/storage4/github/DeepLab-SwissKnife/data/mouse/cross_day_segmented/'"
   ]
  },
  {
   "cell_type": "code",
   "execution_count": null,
   "metadata": {
    "scrolled": true
   },
   "outputs": [],
   "source": [
    "errors = []\n",
    "\n",
    "filnames = []\n",
    "\n",
    "\n",
    "for video in tqdm(videos):\n",
    "    try:\n",
    "        videodata = loadVideo(video)\n",
    "        masked_imgs = preprocVideo(videodata)\n",
    "#         filename = video.split('/')[-1].split('.')[0]\n",
    "        if('post' in video):\n",
    "            filename = 'animal' + '_' + video.split('/')[-1].split('.')[0].split(' ')[0][-1] + '_day_' + video.split('/')[-1].split('.')[0].split(' ')[1].split('Day')[-1]\n",
    "        else:\n",
    "            filename = 'animal' + '_' + video.split('/')[-1].split('.')[0].split(' ')[0][-1] + '_day_' + video.split('/')[-1].split('.')[0].split(' ')[1][-1]\n",
    "        np.save(sink + filename + '.npy', masked_imgs)\n",
    "#         print(filename)\n",
    "#         filnames.append(filename)\n",
    "    except (ValueError, IndexError):\n",
    "        errors.append(video)"
   ]
  },
  {
   "cell_type": "code",
   "execution_count": null,
   "metadata": {},
   "outputs": [],
   "source": [
    "errors = []\n",
    "\n",
    "filnames = []\n",
    "\n",
    "\n",
    "for video in tqdm(videos):\n",
    "    videodata = loadVideo(video)\n",
    "#     masked_imgs = preprocVideo(videodata)\n",
    "\n",
    "    thresholding = 60\n",
    "\n",
    "    # preprocessing\n",
    "    imgs_corr = videodata - np.median(videodata[5000:8000], axis=0)\n",
    "    imgs_corr[:,:75,-200:] = 0\n",
    "    imgs_corr = np.abs(imgs_corr)\n",
    "    center_of_mass, weighted_center_of_mass = extractCOM(imgs_corr[1500], thresholding)\n",
    "    \n",
    "    ### mask images\n",
    "\n",
    "    masked_imgs = []\n",
    "    for idx, img in enumerate(imgs_corr):\n",
    "        if(idx>1000 and idx<3000):\n",
    "            center_of_mass, weighted_center_of_mass = extractCOM(img, thresholding)\n",
    "            masked_imgs.append(maskedImg(videodata[idx], center_of_mass, mask_size=35))\n",
    "    masked_imgs = np.asarray(masked_imgs)\n",
    "    plt.imshow(masked_imgs[-1])\n",
    "    plt.show()\n",
    "    \n",
    "    if('post' in video):\n",
    "        filename = 'animal' + '_' + video.split('/')[-1].split('.')[0].split(' ')[0][-1] + '_day_' + video.split('/')[-1].split('.')[0].split(' ')[1].split('Day')[-1]\n",
    "    else:\n",
    "        filename = 'animal' + '_' + video.split('/')[-1].split('.')[0].split(' ')[0][-1] + '_day_' + video.split('/')[-1].split('.')[0].split(' ')[1][-1]\n",
    "    np.save(sink + filename + '.npy', masked_imgs)"
   ]
  },
  {
   "cell_type": "code",
   "execution_count": null,
   "metadata": {},
   "outputs": [],
   "source": [
    "plt.imshow(maskedImg(img, weighted_center_of_mass, mask_size=40))"
   ]
  },
  {
   "cell_type": "code",
   "execution_count": null,
   "metadata": {},
   "outputs": [],
   "source": [
    "center_of_mass"
   ]
  },
  {
   "cell_type": "code",
   "execution_count": null,
   "metadata": {},
   "outputs": [],
   "source": []
  },
  {
   "cell_type": "code",
   "execution_count": null,
   "metadata": {},
   "outputs": [],
   "source": [
    "plt.imshow(masked_imgs[-1])\n",
    "plt.show()"
   ]
  },
  {
   "cell_type": "code",
   "execution_count": null,
   "metadata": {},
   "outputs": [],
   "source": [
    "plt.imshow(img)\n",
    "plt.scatter(center_of_mass[1],center_of_mass[0])\n",
    "image = img"
   ]
  },
  {
   "cell_type": "code",
   "execution_count": null,
   "metadata": {},
   "outputs": [],
   "source": [
    "from skimage.filters import threshold_otsu, threshold_minimum"
   ]
  },
  {
   "cell_type": "code",
   "execution_count": null,
   "metadata": {},
   "outputs": [],
   "source": [
    "threshold = threshold_minimum(image, nbins=768)"
   ]
  },
  {
   "cell_type": "code",
   "execution_count": null,
   "metadata": {},
   "outputs": [],
   "source": [
    "thresh = image > threshold"
   ]
  },
  {
   "cell_type": "code",
   "execution_count": null,
   "metadata": {},
   "outputs": [],
   "source": [
    "plt.imshow(thresh)"
   ]
  },
  {
   "cell_type": "code",
   "execution_count": null,
   "metadata": {},
   "outputs": [],
   "source": []
  }
 ],
 "metadata": {
  "kernelspec": {
   "display_name": "Python 3",
   "language": "python",
   "name": "python3"
  },
  "language_info": {
   "codemirror_mode": {
    "name": "ipython",
    "version": 3
   },
   "file_extension": ".py",
   "mimetype": "text/x-python",
   "name": "python",
   "nbconvert_exporter": "python",
   "pygments_lexer": "ipython3",
   "version": "3.7.4"
  }
 },
 "nbformat": 4,
 "nbformat_minor": 2
}
